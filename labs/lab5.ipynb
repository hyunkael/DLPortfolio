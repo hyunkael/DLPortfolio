{
 "cells": [
  {
   "cell_type": "markdown",
   "id": "b31001ed-e3c1-480d-b25f-95e49c277034",
   "metadata": {},
   "source": [
    "**Qylle Christian Quiño - DS4A**\n",
    "\n",
    "*Laboratory Task 5 - Pytorch Exercise*"
   ]
  },
  {
   "cell_type": "code",
   "execution_count": 1,
   "id": "9008772a-bfd7-4ee0-aa50-e891afa8f25d",
   "metadata": {},
   "outputs": [],
   "source": [
    "#1. Perform Standard Imports\n",
    "\n",
    "import torch\n",
    "import numpy as np\n",
    "import sys\n",
    "import random"
   ]
  },
  {
   "cell_type": "code",
   "execution_count": 2,
   "id": "b714bae8-ffa2-4c32-b599-5d03c47cc00d",
   "metadata": {},
   "outputs": [],
   "source": [
    "#2. Create a function called set_seed() that accepts seed: int as a parameter, this function must return nothing but just set the seed to a certain value.\n",
    "\n",
    "def set_seed(seed:int):\n",
    "    random.seed(seed)\n",
    "    np.random.seed(seed)\n",
    "\n",
    "set_seed(42)"
   ]
  },
  {
   "cell_type": "code",
   "execution_count": 3,
   "id": "be22a957-a1e2-4c58-beaf-2d2aa7908393",
   "metadata": {},
   "outputs": [
    {
     "data": {
      "text/plain": [
       "array([3, 4, 2, 4, 4, 1], dtype=int32)"
      ]
     },
     "execution_count": 3,
     "metadata": {},
     "output_type": "execute_result"
    }
   ],
   "source": [
    "#3. Create a NumPy array called \"arr\" that contains 6 random integers between 0 (inclusive) and 5 (exclusive), call the set_seed() function and use 42 as the seed parameter.\n",
    "\n",
    "arr = np.random.randint(0,5, size=6)\n",
    "arr"
   ]
  },
  {
   "cell_type": "code",
   "execution_count": 4,
   "id": "b3f24296-adb4-44b0-8c21-7cc1f6268adc",
   "metadata": {},
   "outputs": [
    {
     "name": "stdout",
     "output_type": "stream",
     "text": [
      "tensor([3, 4, 2, 4, 4, 1], dtype=torch.int32)\n"
     ]
    }
   ],
   "source": [
    "#4. Create a tensor \"x\" from the array above\n",
    "\n",
    "x = torch.from_numpy(arr)\n",
    "print(x)"
   ]
  },
  {
   "cell_type": "code",
   "execution_count": 5,
   "id": "1f9b6064-229a-460b-9d8e-193eb1b4d0df",
   "metadata": {},
   "outputs": [
    {
     "name": "stdout",
     "output_type": "stream",
     "text": [
      "New Datatype:  torch.LongTensor\n"
     ]
    }
   ],
   "source": [
    "#5. Change the dtype of x from int32 to int64\n",
    "\n",
    "x = x.type(torch.int64)\n",
    "print('New Datatype: ', x.type())"
   ]
  },
  {
   "cell_type": "code",
   "execution_count": 6,
   "id": "4dab142f-f07e-4c19-80ea-488f6f1c2957",
   "metadata": {},
   "outputs": [
    {
     "name": "stdout",
     "output_type": "stream",
     "text": [
      "tensor([[3, 4],\n",
      "        [2, 4],\n",
      "        [4, 1]])\n"
     ]
    }
   ],
   "source": [
    "#6. Reshape x into a 3x2 tensor\n",
    "\n",
    "reshaped = x.reshape(3,2)\n",
    "print(reshaped)"
   ]
  },
  {
   "cell_type": "code",
   "execution_count": 7,
   "id": "8fe35fbe-c3be-450d-b721-2233a7823c1b",
   "metadata": {},
   "outputs": [
    {
     "data": {
      "text/plain": [
       "tensor([[4],\n",
       "        [4],\n",
       "        [1]])"
      ]
     },
     "execution_count": 7,
     "metadata": {},
     "output_type": "execute_result"
    }
   ],
   "source": [
    "#7. Return the right-hand column of tensor x\n",
    "\n",
    "reshaped[:,1:]"
   ]
  },
  {
   "cell_type": "code",
   "execution_count": 8,
   "id": "0d0d442e-bc31-4880-a5f9-6aec9b60ead9",
   "metadata": {},
   "outputs": [
    {
     "data": {
      "text/plain": [
       "tensor([[ 9, 16],\n",
       "        [ 4, 16],\n",
       "        [16,  1]])"
      ]
     },
     "execution_count": 8,
     "metadata": {},
     "output_type": "execute_result"
    }
   ],
   "source": [
    "#8. Without changing x, return a tensor of square values of x\n",
    "\n",
    "squared = reshaped ** 2\n",
    "squared"
   ]
  },
  {
   "cell_type": "code",
   "execution_count": 9,
   "id": "c7de6e10-f952-4043-8f0c-f63a5cb11f54",
   "metadata": {},
   "outputs": [
    {
     "name": "stdout",
     "output_type": "stream",
     "text": [
      "tensor([[0.8823, 0.9150],\n",
      "        [0.3829, 0.9593],\n",
      "        [0.3904, 0.6009]])\n"
     ]
    }
   ],
   "source": [
    "#9. Create a tensor y with the same number of elements as x, that can be matrix-multiplied with x\n",
    "\n",
    "torch.manual_seed(42)\n",
    "y = torch.rand(3, 2)\n",
    "print(y)"
   ]
  },
  {
   "cell_type": "code",
   "execution_count": 10,
   "id": "ac03d4f9-f05c-40cd-b0d3-c183d09ee635",
   "metadata": {},
   "outputs": [
    {
     "name": "stdout",
     "output_type": "stream",
     "text": [
      "tensor([[2.6468, 3.6600],\n",
      "        [0.7657, 3.8372],\n",
      "        [1.5618, 0.6009]])\n"
     ]
    }
   ],
   "source": [
    "#10. Find the matrix product of x and y.\n",
    "\n",
    "print(reshaped.mul(y))"
   ]
  }
 ],
 "metadata": {
  "kernelspec": {
   "display_name": "Python 3 (ipykernel)",
   "language": "python",
   "name": "python3"
  },
  "language_info": {
   "codemirror_mode": {
    "name": "ipython",
    "version": 3
   },
   "file_extension": ".py",
   "mimetype": "text/x-python",
   "name": "python",
   "nbconvert_exporter": "python",
   "pygments_lexer": "ipython3",
   "version": "3.9.0"
  }
 },
 "nbformat": 4,
 "nbformat_minor": 5
}
