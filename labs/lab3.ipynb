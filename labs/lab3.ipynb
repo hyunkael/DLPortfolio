{
 "cells": [
  {
   "attachments": {
    "14080047-9e6b-4242-a20f-6aebfaba77fb.png": {
     "image/png": "[encoded data removed]"
    }
   },
   "cell_type": "markdown",
   "id": "cd967780-aed6-47dc-aa11-7a559df81cd1",
   "metadata": {},
   "source": [
    "![image.png](attachment:14080047-9e6b-4242-a20f-6aebfaba77fb.png)"
   ]
  },
  {
   "cell_type": "code",
   "execution_count": 1,
   "id": "887563d2-3ecd-4797-8a19-45f52b37f897",
   "metadata": {},
   "outputs": [],
   "source": [
    "import numpy as np"
   ]
  },
  {
   "cell_type": "code",
   "execution_count": 2,
   "id": "d44c437a-5813-499a-8ef0-937ba9e8c012",
   "metadata": {},
   "outputs": [],
   "source": [
    "x = np.array([1, 0, 1])\n",
    "y = np.array([1])\n",
    "lr = 0.001"
   ]
  },
  {
   "cell_type": "code",
   "execution_count": 3,
   "id": "8bab85de-bb65-4f71-81d4-9f0beed40b48",
   "metadata": {},
   "outputs": [],
   "source": [
    "#Weights and biases from Lab 2\n",
    "W_hidden = np.array([\n",
    "    [0.2, -0.3],\n",
    "    [0.4,  0.1],\n",
    "    [-0.5, 0.2]\n",
    "])"
   ]
  },
  {
   "cell_type": "code",
   "execution_count": 4,
   "id": "517ed0e9-9985-4d88-b2ad-44b1adf8d1c8",
   "metadata": {},
   "outputs": [],
   "source": [
    "# Biases for hidden neurons\n",
    "b_hidden = np.array([-0.4, 0.2])\n",
    "\n",
    "W_output = np.array([[-0.3], [-0.2]])\n",
    "\n",
    "# Bias for output neuron\n",
    "b_output = np.array([0.1])"
   ]
  },
  {
   "cell_type": "code",
   "execution_count": 5,
   "id": "42dde919-4981-4b01-a9d4-1ec7a98fd1aa",
   "metadata": {},
   "outputs": [],
   "source": [
    "# Functions\n",
    "def relu(z):\n",
    "    return np.maximum(0, z)\n",
    "\n",
    "def relu_derivative(z):\n",
    "    return np.where(z > 0, 1, 0)"
   ]
  },
  {
   "cell_type": "code",
   "execution_count": 6,
   "id": "9f8e79c2-50e6-48be-99a9-bc3f44250da8",
   "metadata": {},
   "outputs": [],
   "source": [
    "Z_hidden = np.dot(x, W_hidden) + b_hidden\n",
    "H = relu(Z_hidden)\n",
    "\n",
    "Z_output = np.dot(H, W_output) + b_output\n",
    "y_hat = relu(Z_output)"
   ]
  },
  {
   "cell_type": "markdown",
   "id": "ae3a7d27-4626-40ad-849a-54b0b5239c89",
   "metadata": {},
   "source": [
    "## FeedForward Results"
   ]
  },
  {
   "cell_type": "code",
   "execution_count": 7,
   "id": "94c4e5d0-c500-48a8-8132-9ebd658c1ed7",
   "metadata": {},
   "outputs": [
    {
     "name": "stdout",
     "output_type": "stream",
     "text": [
      "Forward Pass:\n",
      "Z_hidden = [-0.7  0.1]\n",
      "H (hidden activations) = [0.  0.1]\n",
      "Z_output = [0.08]\n",
      "y_hat (prediction) = [0.08]\n"
     ]
    }
   ],
   "source": [
    "print(\"Forward Pass:\")\n",
    "print(\"Z_hidden =\", Z_hidden)\n",
    "print(\"H (hidden activations) =\", H)\n",
    "print(\"Z_output =\", Z_output)\n",
    "print(\"y_hat (prediction) =\", y_hat)"
   ]
  },
  {
   "cell_type": "code",
   "execution_count": 9,
   "id": "d15afa9a-b44d-4f5c-9f8a-a3f3ce700225",
   "metadata": {},
   "outputs": [
    {
     "name": "stdout",
     "output_type": "stream",
     "text": [
      "Loss = 0.8464\n"
     ]
    }
   ],
   "source": [
    "# Compute loss\n",
    "loss = np.mean((y - y_hat) ** 2)\n",
    "print(\"Loss =\", loss)"
   ]
  },
  {
   "cell_type": "markdown",
   "id": "4f5b1742-27ba-4a88-b104-6ff09c9728f8",
   "metadata": {},
   "source": [
    "# Backward Propagation"
   ]
  },
  {
   "cell_type": "code",
   "execution_count": 10,
   "id": "ac8ddb1c-1749-4bc0-b3c0-8bd71090c3bf",
   "metadata": {},
   "outputs": [],
   "source": [
    "# Backward pass\n",
    "dL_dyhat = 2 * (y_hat - y)"
   ]
  },
  {
   "cell_type": "code",
   "execution_count": 11,
   "id": "3d63c4c7-0bf2-4416-90c8-80899f30d4f5",
   "metadata": {},
   "outputs": [],
   "source": [
    "# Derivative through ReLU\n",
    "dyhat_dZout = relu_derivative(Z_output)\n",
    "dL_dZout = dL_dyhat * dyhat_dZout\n",
    "\n",
    "# Gradients\n",
    "dL_dWout = H.reshape(-1,1) @ dL_dZout.reshape(1,-1)   # outer product\n",
    "dL_dbout = dL_dZout"
   ]
  },
  {
   "cell_type": "code",
   "execution_count": 12,
   "id": "59a563cb-201f-4d6c-8cad-ff1db3e6e0cf",
   "metadata": {},
   "outputs": [],
   "source": [
    "dL_dWout = H.reshape(-1,1) @ dL_dZout.reshape(1,-1)   # outer product\n",
    "dL_dbout = dL_dZout"
   ]
  },
  {
   "cell_type": "code",
   "execution_count": 13,
   "id": "3999bef7-6095-40ce-b617-47c665d0f4bf",
   "metadata": {},
   "outputs": [],
   "source": [
    "# Backpropagation to hidden layer\n",
    "dL_dH = dL_dZout @ W_output.T\n",
    "dH_dZhidden = relu_derivative(Z_hidden)\n",
    "dL_dZhidden = dL_dH * dH_dZhidden"
   ]
  },
  {
   "cell_type": "code",
   "execution_count": 14,
   "id": "ed3e9416-1fe2-40bb-8927-f8267a7af5cb",
   "metadata": {},
   "outputs": [],
   "source": [
    "# Gradients for hidden weights and biases\n",
    "dL_dWhidden = x.reshape(-1,1) @ dL_dZhidden.reshape(1,-1)\n",
    "dL_dbhidden = dL_dZhidden"
   ]
  },
  {
   "cell_type": "markdown",
   "id": "702fcf34-dab0-4df2-bf41-753d41f01f75",
   "metadata": {},
   "source": [
    "## Backward Propagation Results"
   ]
  },
  {
   "cell_type": "code",
   "execution_count": 15,
   "id": "d62e7673-b02d-4879-b7d3-3e19b7fd5a28",
   "metadata": {},
   "outputs": [
    {
     "name": "stdout",
     "output_type": "stream",
     "text": [
      "\n",
      "Backward Pass:\n",
      "dL_dWout = \n",
      " [[ 0.   ]\n",
      " [-0.184]]\n",
      "dL_dbout = \n",
      " [-1.84]\n",
      "dL_dWhidden = \n",
      " [[0.    0.368]\n",
      " [0.    0.   ]\n",
      " [0.    0.368]]\n",
      "dL_dbhidden = \n",
      " [0.    0.368]\n"
     ]
    }
   ],
   "source": [
    "print(\"\\nBackward Pass:\")\n",
    "print(\"dL_dWout =\", \"\\n\",dL_dWout)\n",
    "print(\"dL_dbout =\", \"\\n\", dL_dbout)\n",
    "print(\"dL_dWhidden =\",\"\\n\", dL_dWhidden)\n",
    "print(\"dL_dbhidden =\",\"\\n\", dL_dbhidden)"
   ]
  },
  {
   "cell_type": "code",
   "execution_count": 16,
   "id": "6d7700f3-e43d-4f27-97fb-5f53515ef2b8",
   "metadata": {},
   "outputs": [],
   "source": [
    "W_output -= lr * dL_dWout\n",
    "b_output -= lr * dL_dbout\n",
    "W_hidden -= lr * dL_dWhidden\n",
    "b_hidden -= lr * dL_dbhidden"
   ]
  },
  {
   "cell_type": "markdown",
   "id": "3ff0ee27-3814-4e73-af6a-a8e6f3391d1d",
   "metadata": {},
   "source": [
    "## Final Results"
   ]
  },
  {
   "cell_type": "code",
   "execution_count": 17,
   "id": "6da07c13-70da-47ec-a41f-36a755be245c",
   "metadata": {},
   "outputs": [
    {
     "name": "stdout",
     "output_type": "stream",
     "text": [
      "\n",
      "Updated Parameters:\n",
      "W_hidden = \n",
      " [[ 0.2      -0.300368]\n",
      " [ 0.4       0.1     ]\n",
      " [-0.5       0.199632]]\n",
      "b_hidden = \n",
      " [-0.4       0.199632]\n",
      "W_output = \n",
      " [[-0.3     ]\n",
      " [-0.199816]]\n",
      "b_output = \n",
      " [0.10184]\n"
     ]
    }
   ],
   "source": [
    "print(\"\\nUpdated Parameters:\")\n",
    "print(\"W_hidden =\",\"\\n\", W_hidden)\n",
    "print(\"b_hidden =\",\"\\n\", b_hidden)\n",
    "print(\"W_output =\", \"\\n\",W_output)\n",
    "print(\"b_output =\",\"\\n\", b_output)"
   ]
  },
  {
   "cell_type": "markdown",
   "id": "02f1b20c-40fb-4c24-9b89-53f3e19bdd96",
   "metadata": {},
   "source": [
    "## Results and conclusion"
   ]
  },
  {
   "cell_type": "markdown",
   "id": "6e6b8e29-b343-41e7-95d7-06edb46ae843",
   "metadata": {},
   "source": [
    "In this activity, we explored how to perform both forward and backward propagation in a feedforward neural network. In the forward pass, we calculated the weighted sums of the inputs, applied the ReLU activation function, and produced the network’s output. The error was then measured using Mean Squared Error (MSE) to determine the difference between the prediction and the actual target. During backpropagation, we computed the gradients of the loss with respect to the weights and biases using the chain rule and updated the parameters through gradient descent. Overall, this exercise illustrated the full learning process of a neural network—how it generates predictions, evaluates errors, and refines its parameters to improve accuracy over time.\n"
   ]
  }
 ],
 "metadata": {
  "kernelspec": {
   "display_name": "Python 3 (ipykernel)",
   "language": "python",
   "name": "python3"
  },
  "language_info": {
   "codemirror_mode": {
    "name": "ipython",
    "version": 3
   },
   "file_extension": ".py",
   "mimetype": "text/x-python",
   "name": "python",
   "nbconvert_exporter": "python",
   "pygments_lexer": "ipython3",
   "version": "3.13.0"
  }
 },
 "nbformat": 4,
 "nbformat_minor": 5
}
