{
 "cells": [
  {
   "cell_type": "markdown",
   "id": "a639083c-00ad-4fc1-b830-5a474c2b1721",
   "metadata": {},
   "source": [
    "# Foundational Concept of Deep Learning"
   ]
  },
  {
   "cell_type": "markdown",
   "id": "031ffe9a-c11c-4153-bb64-3b5993103748",
   "metadata": {},
   "source": [
    "Data analytics is the field that includes various methods of data exploration. Any kind of information can undergo data analytics to extract insights that can drive improvements. These techniques can uncover trends and metrics that might otherwise be obscured within large datasets. Such insights can then be utilized to optimize processes, enhancing the overall efficiency of a business or system. There are four types of data analytics, each are in their own respective level of value and complexity.\n",
    "\n",
    "1. **Descriptive Analytics**\n",
    "Descriptive analytics focuses on summarizing historical data to understand what has happened over a given period. It uses data aggregation and data mining techniques to provide insights into past performance and trends. By creating reports, dashboards, and scorecards, descriptive analytics helps organizations understand their current status and how they got there. This form of analytics is foundational, as it provides the context and baseline information necessary for more advanced types of analysis.\n",
    "\n",
    "2. **Diagnostic Analytics**\n",
    "Diagnostic analytics goes a step further by examining data to determine the causes of past outcomes. It delves into the details of descriptive analytics to uncover why certain events occurred. Techniques such as drill-down, data discovery, data mining, and correlations are used to identify patterns and relationships. This type of analytics helps organizations understand the underlying reasons behind trends and anomalies, providing a deeper insight into the factors influencing their performance.\n",
    "\n",
    "3. **Predictive Analytics**\n",
    "Predictive analytics uses statistical models and machine learning algorithms to analyze historical data and make forecasts about future events. By identifying patterns and trends from past data, predictive analytics can estimate the likelihood of future outcomes. This type of analytics is crucial for decision-making, as it allows organizations to anticipate potential challenges and opportunities, helping them to plan and strategize more effectively.\n",
    "\n",
    "4. **Prescriptive Analytics**\n",
    "Prescriptive analytics goes beyond predicting future outcomes by recommending actions to achieve desired results. It uses optimization and simulation algorithms to suggest the best course of action based on the predicted data. Prescriptive analytics takes into account various constraints and objectives, providing specific guidance on how to address potential issues or capitalize on opportunities. This advanced form of analytics supports decision-making by suggesting actions that can help achieve business goals and improve overall performance."
   ]
  },
  {
   "cell_type": "markdown",
   "id": "c1803934-bcd9-4231-8ad6-e8d1e4c65c36",
   "metadata": {},
   "source": [
    "Example Scenario:\n",
    "Dr. Jake is a medical doctor and the CEO of Astro JR, a giant pharmaceutical company in the Philippines. To support the production and use of AstroJR's COVID19 vaccine, this company has implemented a number of business intelligence and data analytics tools. Your task is to provide the appropriate and necessary analytical questions Dr. Jake must ask his analytics team in order to provide better deployment and production of COVID19 vaccines around the world using descriptive, predictive, and prescriptive analytics.\n",
    "\n",
    "**Descriptive**: How many infected cases since last week?\n",
    "\n",
    "**Diagnostic**: What factor affects the demand of AstroJR's COVID19 vaccine?\n",
    "\n",
    "**Predictive**: How many deaths next week?\n",
    "\n",
    "**Prescriptive**: If the number of cases will increase next week, how many hospital staff should be here to adequately treat the influx of patients?\n",
    "\n",
    "To address the key questions identified by the analytics team, historical data on deaths will be crucial. By analyzing this time-series data, the team can leverage statistical modeling techniques to uncover patterns and trends that will enable them to generate accurate forecasts. The inclusion of a time variable in the inquiry makes the use of these statistical models essential, as they are specifically designed to handle and extract insights from data with a temporal component. This predictive modeling process will also introduce the team to the potential applications of Artificial Intelligence (AI) in this domain."
   ]
  },
  {
   "cell_type": "markdown",
   "id": "0cd52dff-21ec-4c79-9d14-12aeda7597a0",
   "metadata": {},
   "source": [
    "# Laboratory Task 1"
   ]
  },
  {
   "cell_type": "markdown",
   "id": "981a43fc-1ac7-4137-bdfb-be38dc48d41f",
   "metadata": {},
   "source": [
    "Instruction: From the example scenario above, create additional two inquiries for each type of data analytics.\n",
    "\n",
    "**Descriptive**:\n",
    "1. How many COVID-19 vaccines have been distributed and administered in each region during the past month?\n",
    "2. What is the average daily production output of AstroJR’s vaccine manufacturing plants in the last quarter?\n",
    "   \n",
    "**Diagnostic**:\n",
    "1. Why did vaccine distribution in certain regions lag compared to others despite equal supply allocations?\n",
    "\n",
    "2. What caused the sudden spike in demand for vaccines in urban areas compared to rural areas?\n",
    "\n",
    "**Predictive**:\n",
    "1. Based on current vaccination rates, how many people will be fully vaccinated in the next three months?\n",
    "\n",
    "2. If a new COVID-19 variant emerges, what is the projected demand increase for booster shots?\n",
    "\n",
    "**Prescriptive**:\n",
    "1. If vaccine demand exceeds supply in a specific region, how should the company optimize logistics to ensure equitable distribution?\n",
    "\n",
    "2. Given current production capacity, what adjustments should be made to meet the projected global vaccine demand within the next six months?\n"
   ]
  }
 ],
 "metadata": {
  "kernelspec": {
   "display_name": "Python 3 (ipykernel)",
   "language": "python",
   "name": "python3"
  },
  "language_info": {
   "codemirror_mode": {
    "name": "ipython",
    "version": 3
   },
   "file_extension": ".py",
   "mimetype": "text/x-python",
   "name": "python",
   "nbconvert_exporter": "python",
   "pygments_lexer": "ipython3",
   "version": "3.13.0"
  }
 },
 "nbformat": 4,
 "nbformat_minor": 5
}
